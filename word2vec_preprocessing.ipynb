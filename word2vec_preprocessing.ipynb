{
 "cells": [
  {
   "cell_type": "code",
   "execution_count": 1,
   "metadata": {
    "ExecuteTime": {
     "end_time": "2019-11-28T01:55:58.940459Z",
     "start_time": "2019-11-28T01:55:58.513474Z"
    }
   },
   "outputs": [],
   "source": [
    "import pandas as pd"
   ]
  },
  {
   "cell_type": "code",
   "execution_count": 2,
   "metadata": {
    "ExecuteTime": {
     "end_time": "2019-11-28T01:56:27.237270Z",
     "start_time": "2019-11-28T01:55:58.942298Z"
    }
   },
   "outputs": [],
   "source": [
    "df = pd.read_csv('cmake-build-debug/pages03.txt', delimiter='\\t', encoding='cp1251')"
   ]
  },
  {
   "cell_type": "code",
   "execution_count": 3,
   "metadata": {
    "ExecuteTime": {
     "end_time": "2019-11-28T01:56:27.253911Z",
     "start_time": "2019-11-28T01:56:27.240420Z"
    }
   },
   "outputs": [
    {
     "data": {
      "text/plain": [
       "(1080604, 12)"
      ]
     },
     "execution_count": 3,
     "metadata": {},
     "output_type": "execute_result"
    }
   ],
   "source": [
    "df.shape"
   ]
  },
  {
   "cell_type": "code",
   "execution_count": 4,
   "metadata": {
    "ExecuteTime": {
     "end_time": "2019-11-28T01:56:27.274530Z",
     "start_time": "2019-11-28T01:56:27.256180Z"
    }
   },
   "outputs": [
    {
     "data": {
      "text/html": [
       "<div>\n",
       "<style scoped>\n",
       "    .dataframe tbody tr th:only-of-type {\n",
       "        vertical-align: middle;\n",
       "    }\n",
       "\n",
       "    .dataframe tbody tr th {\n",
       "        vertical-align: top;\n",
       "    }\n",
       "\n",
       "    .dataframe thead th {\n",
       "        text-align: right;\n",
       "    }\n",
       "</style>\n",
       "<table border=\"1\" class=\"dataframe\">\n",
       "  <thead>\n",
       "    <tr style=\"text-align: right;\">\n",
       "      <th></th>\n",
       "      <th>id</th>\n",
       "      <th>url</th>\n",
       "      <th>site_name</th>\n",
       "      <th>published_date</th>\n",
       "      <th>irr_letters</th>\n",
       "      <th>total_letters</th>\n",
       "      <th>irr_words</th>\n",
       "      <th>total_words</th>\n",
       "      <th>lang</th>\n",
       "      <th>title</th>\n",
       "      <th>description</th>\n",
       "      <th>content</th>\n",
       "    </tr>\n",
       "  </thead>\n",
       "  <tbody>\n",
       "    <tr>\n",
       "      <th>0</th>\n",
       "      <td>1</td>\n",
       "      <td>https://7days.ru/lifestyle/food/pechene-snezhi...</td>\n",
       "      <td>7дней ру</td>\n",
       "      <td>2019 11 23t03 00 00 00 00</td>\n",
       "      <td>0</td>\n",
       "      <td>1326</td>\n",
       "      <td>0</td>\n",
       "      <td>235</td>\n",
       "      <td>ru</td>\n",
       "      <td>печенье снежинка рецепт десерта для всей семьи</td>\n",
       "      <td>встречаем зиму тематическим лакомством вдохнов...</td>\n",
       "      <td>печенье снежинка рецепт десерта для всей семьи...</td>\n",
       "    </tr>\n",
       "    <tr>\n",
       "      <th>1</th>\n",
       "      <td>2</td>\n",
       "      <td>https://www.informador.mx/entretenimiento/Matu...</td>\n",
       "      <td>el informador</td>\n",
       "      <td>2019 11 23t03 15 00 00 00</td>\n",
       "      <td>36</td>\n",
       "      <td>1388</td>\n",
       "      <td>35</td>\n",
       "      <td>293</td>\n",
       "      <td>undefined</td>\n",
       "      <td>matute est_ listo para el telmex</td>\n",
       "      <td>la banda mexicana se presentar_ en guadalajara...</td>\n",
       "      <td>matute est_ listo para el telmex la banda mexi...</td>\n",
       "    </tr>\n",
       "    <tr>\n",
       "      <th>2</th>\n",
       "      <td>3</td>\n",
       "      <td>https://7days.ru/news/lunnyy-goroskop-na-23-no...</td>\n",
       "      <td>7дней ру</td>\n",
       "      <td>2019 11 23t03 00 00 00 00</td>\n",
       "      <td>0</td>\n",
       "      <td>1057</td>\n",
       "      <td>0</td>\n",
       "      <td>186</td>\n",
       "      <td>ru</td>\n",
       "      <td>лунный гороскоп на 23 ноября субботу</td>\n",
       "      <td>день семейных традиций и поделок своими руками</td>\n",
       "      <td>лунный гороскоп на 23 ноября субботу день семе...</td>\n",
       "    </tr>\n",
       "    <tr>\n",
       "      <th>3</th>\n",
       "      <td>4</td>\n",
       "      <td>https://oreltimes.ru/news/obshhestvo/stihotvor...</td>\n",
       "      <td>орелtimes</td>\n",
       "      <td>2019 11 23t03 00 14 00 00</td>\n",
       "      <td>12</td>\n",
       "      <td>1811</td>\n",
       "      <td>0</td>\n",
       "      <td>318</td>\n",
       "      <td>ru</td>\n",
       "      <td>стихотворный гороскоп от мудрого орлуши</td>\n",
       "      <td>сегодня суббота выходной а значит можно немног...</td>\n",
       "      <td>стихотворный гороскоп от мудрого орлуши 23 nov...</td>\n",
       "    </tr>\n",
       "    <tr>\n",
       "      <th>4</th>\n",
       "      <td>5</td>\n",
       "      <td>https://mgronline.com/china/detail/9620000111682</td>\n",
       "      <td>mgr online</td>\n",
       "      <td>2019 11 23t03 45 00 00 00</td>\n",
       "      <td>5935</td>\n",
       "      <td>6257</td>\n",
       "      <td>0</td>\n",
       "      <td>67</td>\n",
       "      <td>undefined</td>\n",
       "      <td>NaN</td>\n",
       "      <td>NaN</td>\n",
       "      <td>23 nov 2019 03 45 by 17 mgr online 16 xuefeng ...</td>\n",
       "    </tr>\n",
       "  </tbody>\n",
       "</table>\n",
       "</div>"
      ],
      "text/plain": [
       "   id                                                url      site_name  \\\n",
       "0   1  https://7days.ru/lifestyle/food/pechene-snezhi...       7дней ру   \n",
       "1   2  https://www.informador.mx/entretenimiento/Matu...  el informador   \n",
       "2   3  https://7days.ru/news/lunnyy-goroskop-na-23-no...       7дней ру   \n",
       "3   4  https://oreltimes.ru/news/obshhestvo/stihotvor...      орелtimes   \n",
       "4   5   https://mgronline.com/china/detail/9620000111682     mgr online   \n",
       "\n",
       "              published_date  irr_letters  total_letters  irr_words  \\\n",
       "0  2019 11 23t03 00 00 00 00            0           1326          0   \n",
       "1  2019 11 23t03 15 00 00 00           36           1388         35   \n",
       "2  2019 11 23t03 00 00 00 00            0           1057          0   \n",
       "3  2019 11 23t03 00 14 00 00           12           1811          0   \n",
       "4  2019 11 23t03 45 00 00 00         5935           6257          0   \n",
       "\n",
       "   total_words       lang                                           title  \\\n",
       "0          235         ru  печенье снежинка рецепт десерта для всей семьи   \n",
       "1          293  undefined                matute est_ listo para el telmex   \n",
       "2          186         ru            лунный гороскоп на 23 ноября субботу   \n",
       "3          318         ru         стихотворный гороскоп от мудрого орлуши   \n",
       "4           67  undefined                                             NaN   \n",
       "\n",
       "                                         description  \\\n",
       "0  встречаем зиму тематическим лакомством вдохнов...   \n",
       "1  la banda mexicana se presentar_ en guadalajara...   \n",
       "2    день семейных традиций и поделок своими руками    \n",
       "3  сегодня суббота выходной а значит можно немног...   \n",
       "4                                                NaN   \n",
       "\n",
       "                                             content  \n",
       "0  печенье снежинка рецепт десерта для всей семьи...  \n",
       "1  matute est_ listo para el telmex la banda mexi...  \n",
       "2  лунный гороскоп на 23 ноября субботу день семе...  \n",
       "3  стихотворный гороскоп от мудрого орлуши 23 nov...  \n",
       "4  23 nov 2019 03 45 by 17 mgr online 16 xuefeng ...  "
      ]
     },
     "execution_count": 4,
     "metadata": {},
     "output_type": "execute_result"
    }
   ],
   "source": [
    "df.head()"
   ]
  },
  {
   "cell_type": "code",
   "execution_count": 5,
   "metadata": {
    "ExecuteTime": {
     "end_time": "2019-11-28T01:56:27.395386Z",
     "start_time": "2019-11-28T01:56:27.276354Z"
    }
   },
   "outputs": [
    {
     "data": {
      "text/plain": [
       "(239619, 12)"
      ]
     },
     "execution_count": 5,
     "metadata": {},
     "output_type": "execute_result"
    }
   ],
   "source": [
    "df[df.lang == 'en'].shape"
   ]
  },
  {
   "cell_type": "code",
   "execution_count": 6,
   "metadata": {
    "ExecuteTime": {
     "end_time": "2019-11-28T01:56:27.615543Z",
     "start_time": "2019-11-28T01:56:27.397441Z"
    }
   },
   "outputs": [],
   "source": [
    "english_words = df[df.lang == 'en'][['title', 'description']]\n",
    "english_words.title = english_words.title.fillna('')\n",
    "english_words.description = english_words.description.fillna('')"
   ]
  },
  {
   "cell_type": "code",
   "execution_count": 7,
   "metadata": {
    "ExecuteTime": {
     "end_time": "2019-11-28T01:56:48.981359Z",
     "start_time": "2019-11-28T01:56:27.619327Z"
    }
   },
   "outputs": [],
   "source": [
    "english_text = ''\n",
    "for i, row in english_words.iterrows():\n",
    "    english_text += row.title + '\\n' + row.description + '\\n\\n'\n",
    "del english_words"
   ]
  },
  {
   "cell_type": "code",
   "execution_count": 8,
   "metadata": {
    "ExecuteTime": {
     "end_time": "2019-11-28T01:56:49.065176Z",
     "start_time": "2019-11-28T01:56:48.983072Z"
    }
   },
   "outputs": [],
   "source": [
    "with open('english-corpus.txt', 'w') as f:\n",
    "    f.write(english_text)"
   ]
  },
  {
   "cell_type": "code",
   "execution_count": 9,
   "metadata": {
    "ExecuteTime": {
     "end_time": "2019-11-28T01:56:49.277478Z",
     "start_time": "2019-11-28T01:56:49.066650Z"
    }
   },
   "outputs": [],
   "source": [
    "russian_words = df[df.lang == 'ru'][['title', 'description']]\n",
    "russian_words.title = russian_words.title.fillna('')\n",
    "russian_words.description = russian_words.description.fillna('')"
   ]
  },
  {
   "cell_type": "code",
   "execution_count": 11,
   "metadata": {
    "ExecuteTime": {
     "end_time": "2019-11-28T01:58:42.539231Z",
     "start_time": "2019-11-28T01:58:20.741182Z"
    }
   },
   "outputs": [],
   "source": [
    "russian_text = ''\n",
    "for i, row in russian_words.iterrows():\n",
    "    russian_text += row.title + '\\n' + row.description + '\\n\\n'\n",
    "del russian_words"
   ]
  },
  {
   "cell_type": "code",
   "execution_count": 12,
   "metadata": {
    "ExecuteTime": {
     "end_time": "2019-11-28T01:58:44.037863Z",
     "start_time": "2019-11-28T01:58:43.820431Z"
    }
   },
   "outputs": [],
   "source": [
    "with open('russian-corpus.txt', 'w') as f:\n",
    "    f.write(russian_text)"
   ]
  },
  {
   "cell_type": "code",
   "execution_count": null,
   "metadata": {},
   "outputs": [],
   "source": []
  }
 ],
 "metadata": {
  "kernelspec": {
   "display_name": "Python 3",
   "language": "python",
   "name": "python3"
  },
  "language_info": {
   "codemirror_mode": {
    "name": "ipython",
    "version": 3
   },
   "file_extension": ".py",
   "mimetype": "text/x-python",
   "name": "python",
   "nbconvert_exporter": "python",
   "pygments_lexer": "ipython3",
   "version": "3.7.5"
  },
  "varInspector": {
   "cols": {
    "lenName": 16,
    "lenType": 16,
    "lenVar": 40
   },
   "kernels_config": {
    "python": {
     "delete_cmd_postfix": "",
     "delete_cmd_prefix": "del ",
     "library": "var_list.py",
     "varRefreshCmd": "print(var_dic_list())"
    },
    "r": {
     "delete_cmd_postfix": ") ",
     "delete_cmd_prefix": "rm(",
     "library": "var_list.r",
     "varRefreshCmd": "cat(var_dic_list()) "
    }
   },
   "types_to_exclude": [
    "module",
    "function",
    "builtin_function_or_method",
    "instance",
    "_Feature"
   ],
   "window_display": false
  }
 },
 "nbformat": 4,
 "nbformat_minor": 2
}
